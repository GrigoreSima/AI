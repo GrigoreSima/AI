{
 "cells": [
  {
   "cell_type": "code",
   "execution_count": 58,
   "metadata": {},
   "outputs": [
    {
     "name": "stdout",
     "output_type": "stream",
     "text": [
      "But wherefore do not so; but since I am old?                                     - compound: 0.0, neg: 0.0, neu: 1.0, pos: 0.0,                                    \n",
      "Your monument shall be the same.                                                 - compound: 0.0, neg: 0.0, neu: 1.0, pos: 0.0,                                    \n",
      "Let me not with thine eyes.                                                      - compound: 0.0, neg: 0.0, neu: 1.0, pos: 0.0,                                    \n",
      "Take heed, dear heart, of this excess, Eat up thy charge?                        - compound: 0.3818, neg: 0.0, neu: 0.794, pos: 0.206,                             \n",
      "O! change thy thought, that I before have heard them told.                       - compound: 0.0, neg: 0.0, neu: 1.0, pos: 0.0,                                    \n",
      "That time of year thou mayst prove me.                                           - compound: 0.0, neg: 0.0, neu: 1.0, pos: 0.0,                                    \n",
      "My reason, the physician to my purpose bred, That all the Muses filed.           - compound: 0.0, neg: 0.0, neu: 1.0, pos: 0.0,                                    \n",
      "Thus policy in love, to thee resort.                                             - compound: 0.6369, neg: 0.0, neu: 0.588, pos: 0.412,                             \n",
      "Against my love alone.                                                           - compound: 0.4939, neg: 0.244, neu: 0.244, pos: 0.512,                           \n",
      "Mark how with my desire keep pace.                                               - compound: 0.4019, neg: 0.0, neu: 0.69, pos: 0.31,                               \n",
      "If my dear love I rise and fall.                                                 - compound: 0.7783, neg: 0.0, neu: 0.424, pos: 0.576,                             \n",
      "How many a vanished sight: Then can no horse with my desire keep pace.           - compound: 0.128, neg: 0.138, neu: 0.692, pos: 0.17,                             \n",
      "O benefit of rest?                                                               - compound: 0.4588, neg: 0.0, neu: 0.4, pos: 0.6,                                 \n",
      "But do thy worst all best exceeds?                                               - compound: 0.0387, neg: 0.343, neu: 0.304, pos: 0.353,                           \n",
      "compound: 0.9886, neg: 0.072, neu: 0.65, pos: 0.278, \n"
     ]
    }
   ],
   "source": [
    "import markovify\n",
    "from nltk.sentiment import SentimentIntensityAnalyzer\n",
    "\n",
    "with open(\"data/shakespear.txt\") as file:\n",
    "    text = file.read()\n",
    "\n",
    "model = markovify.Text(text)\n",
    "\n",
    "text = []\n",
    "\n",
    "sentimentAnalyzer = SentimentIntensityAnalyzer()\n",
    "for _ in range(14):\n",
    "    sentence = model.make_short_sentence(70)\n",
    "\n",
    "    while sentence == None:\n",
    "        sentence = model.make_short_sentence(70)\n",
    "\n",
    "    text.append([sentence.split(\" \")])\n",
    "    \n",
    "    scores = sentimentAnalyzer.polarity_scores(sentence)\n",
    "    scoreString = \"\"\n",
    "    for i in sorted(scores):\n",
    "       scoreString += '{0}: {1}, '.format(i, scores[i])\n",
    "\n",
    "    print(\"{0:<80} - {1:<80}\".format(sentence, scoreString))\n",
    "\n",
    "poetry = \"\\n\".join([\" \".join(sent[0]) for sent in text])\n",
    "\n",
    "scores = sentimentAnalyzer.polarity_scores(poetry)\n",
    "scoreString = \"\"\n",
    "for i in sorted(scores):\n",
    "    scoreString += '{0}: {1}, '.format(i, scores[i])\n",
    "\n",
    "print(scoreString)"
   ]
  },
  {
   "cell_type": "code",
   "execution_count": 59,
   "metadata": {},
   "outputs": [],
   "source": [
    "import gensim.downloader \n",
    "\n",
    "gensim = gensim.downloader.load(\"word2vec-google-news-300\")"
   ]
  },
  {
   "cell_type": "code",
   "execution_count": 60,
   "metadata": {},
   "outputs": [],
   "source": [
    "def most_similar_word(word):\n",
    "    try:\n",
    "        similar_words = gensim.most_similar(word)\n",
    "        return similar_words[0][0]\n",
    "    except KeyError:\n",
    "        return word\n"
   ]
  },
  {
   "cell_type": "code",
   "execution_count": 61,
   "metadata": {},
   "outputs": [
    {
     "name": "stdout",
     "output_type": "stream",
     "text": [
      "But wherefore do not so; but since I \u001b[96m'm \u001b[00mold? \n",
      "Your \u001b[96mstatue \u001b[00mshall be the same. \n",
      "Let me not with \u001b[96mthy \u001b[00meyes. \n",
      "Take \u001b[91mheed, \u001b[00mdear heart, of this excess, Eat up thy charge? \n",
      "O! change \u001b[96mthine \u001b[00mthought, that I before have heard them told. \n",
      "That time of year thou mayst prove \u001b[91mme. \u001b[00m\n",
      "My reason, the physician to my \u001b[96mpurposes \u001b[00mbred, That all the Muses filed. \n",
      "Thus policy in love, \u001b[91mto \u001b[00mthee resort. \n",
      "Against my \u001b[96mloved \u001b[00malone. \n",
      "\u001b[96mSteve \u001b[00mhow with my desire keep pace. \n",
      "If my dear love \u001b[96mmyself \u001b[00mrise and fall. \n",
      "How \u001b[96mseveral \u001b[00ma vanished sight: Then can no horse with my desire keep pace. \n",
      "O benefit of \u001b[91mrest? \u001b[00m\n",
      "But do \u001b[96mthine \u001b[00mworst all best exceeds? \n"
     ]
    }
   ],
   "source": [
    "from random import randint\n",
    "\n",
    "modified = []\n",
    "\n",
    "for sente in text:\n",
    "    sente = sente[0]\n",
    "    index = randint(0, len(sente) - 1)\n",
    "    word = most_similar_word(sente[index])\n",
    "    \n",
    "    tempSent = []\n",
    "    result = \"\"\n",
    "    for i in range(len(sente)):\n",
    "        \n",
    "        if i == index:\n",
    "            if word == sente[i]:\n",
    "                result += \"\\033[91m{} \\033[00m\".format(word)\n",
    "            else: \n",
    "                result += \"\\033[96m{} \\033[00m\".format(word)\n",
    "            tempSent.append(word)\n",
    "        else: \n",
    "            result += \"{} \".format(sente[i])\n",
    "            tempSent.append(sente[i])\n",
    "\n",
    "    \n",
    "    modified.append(tempSent)\n",
    "    print(result)"
   ]
  },
  {
   "cell_type": "code",
   "execution_count": 62,
   "metadata": {},
   "outputs": [
    {
     "name": "stdout",
     "output_type": "stream",
     "text": [
      "BLEU score = 0.7805014090508074\n"
     ]
    }
   ],
   "source": [
    "from nltk.translate.bleu_score import corpus_bleu\n",
    "\n",
    "print(\"BLEU score = \" + str(corpus_bleu(text, modified)))\n"
   ]
  },
  {
   "cell_type": "markdown",
   "metadata": {},
   "source": [
    "Best one yet:\n",
    "\n",
    "Now all is done, have what shall be the praise.                                  - compound: 0.5574, neg: 0.0, neu: 0.714, pos: 0.286,                             \n",
    "Then, if for my sin you did impute, Which shall be the same.                     - compound: -0.5574, neg: 0.231, neu: 0.769, pos: 0.0,                            \n",
    "Oh sure I am shamed by that which still doth grow?                               - compound: -0.3182, neg: 0.259, neu: 0.576, pos: 0.165,                          \n",
    "No love toward others in that I cannot know thy change.                          - compound: 0.4588, neg: 0.153, neu: 0.556, pos: 0.292,                           \n",
    "The statute of thy husbandry?                                                    - compound: 0.0, neg: 0.0, neu: 1.0, pos: 0.0,                                    \n",
    "Accuse me thus: that I am gone.                                                  - compound: -0.2023, neg: 0.265, neu: 0.735, pos: 0.0,                            \n",
    "So is my love, not for myself, no quiet find.                                    - compound: 0.747, neg: 0.0, neu: 0.557, pos: 0.443,                              \n",
    "Proud of this madding fever!                                                     - compound: 0.5255, neg: 0.0, neu: 0.541, pos: 0.459,                             \n",
    "Take heed, dear heart, of this excess, Eat up thy charge?                        - compound: 0.3818, neg: 0.0, neu: 0.794, pos: 0.206,                             \n",
    "Unthrifty loveliness, why dost thou too, and therein dignified.                  - compound: 0.4939, neg: 0.0, neu: 0.714, pos: 0.286,                             \n",
    "Oh sure I am gone.                                                               - compound: 0.3182, neg: 0.0, neu: 0.566, pos: 0.434,                             \n",
    "Herein lives wisdom, beauty, and thy love's use their treasure.                  - compound: 0.8555, neg: 0.0, neu: 0.427, pos: 0.573,                             \n",
    "Him have I slept in your sweet form should bear.                                 - compound: 0.4588, neg: 0.0, neu: 0.727, pos: 0.273,                             \n",
    "Have I not to give them from me now.                                             - compound: 0.0, neg: 0.0, neu: 1.0, pos: 0.0,                  "
   ]
  }
 ],
 "metadata": {
  "kernelspec": {
   "display_name": "Python 3",
   "language": "python",
   "name": "python3"
  },
  "language_info": {
   "codemirror_mode": {
    "name": "ipython",
    "version": 3
   },
   "file_extension": ".py",
   "mimetype": "text/x-python",
   "name": "python",
   "nbconvert_exporter": "python",
   "pygments_lexer": "ipython3",
   "version": "3.10.14"
  }
 },
 "nbformat": 4,
 "nbformat_minor": 2
}
