{
 "cells": [
  {
   "cell_type": "code",
   "execution_count": 337,
   "metadata": {},
   "outputs": [],
   "source": [
    "from sklearn.preprocessing import StandardScaler\n",
    "import numpy as np \n",
    "from sklearn import neural_network\n",
    "import matplotlib.pyplot as plt \n",
    "from sklearn import linear_model\n",
    "import os"
   ]
  },
  {
   "cell_type": "code",
   "execution_count": 338,
   "metadata": {},
   "outputs": [],
   "source": [
    "import numpy as np\n",
    "from PIL import Image \n",
    "from skimage.io import imread\n",
    "from skimage.transform import resize\n",
    "def loadData():\n",
    "\n",
    "    images = []\n",
    "    labels = []\n",
    "\n",
    "    limit = 100\n",
    "\n",
    "    dir = \"data/train/\"\n",
    "    count = 1\n",
    "    for file in os.listdir(dir):\n",
    "        img = imread(dir + file)\n",
    "        img = resize(img, (15, 15))\n",
    "\n",
    "        images.append(img.flatten())\n",
    "        labels.append(0)\n",
    "\n",
    "        if count >= limit: break\n",
    "        count += 1\n",
    "\n",
    "    dir = \"data/train_sepia/\"\n",
    "    count = 1\n",
    "    for file in os.listdir(dir):\n",
    "        img = imread(dir + file)\n",
    "        img = resize(img, (15, 15))\n",
    "\n",
    "        images.append(img.flatten())\n",
    "        labels.append(1)\n",
    "\n",
    "        if count >= limit: break\n",
    "        count += 1\n",
    "\n",
    "    inputs = np.asarray(images)\n",
    "    outputs = np.asarray(labels)\n",
    "\n",
    "    noData = len(inputs)\n",
    "    permutation = np.random.permutation(noData)\n",
    "    inputs = inputs[permutation]\n",
    "    outputs = outputs[permutation]\n",
    "\n",
    "    return inputs, outputs\n",
    "\n",
    "inputs, outputs = loadData()\n",
    "outputNames = [0, 1]"
   ]
  },
  {
   "cell_type": "code",
   "execution_count": 339,
   "metadata": {},
   "outputs": [],
   "source": [
    "def splitData(inputs, outputs):\n",
    "    np.random.seed(5)\n",
    "    indexes = [i for i in range(len(inputs))]\n",
    "    trainSample = np.random.choice(indexes, int(0.8 * len(inputs)), replace = False)\n",
    "    testSample = [i for i in indexes  if not i in trainSample]\n",
    "\n",
    "    trainInputs = [inputs[i] for i in trainSample]\n",
    "    trainOutputs = [outputs[i] for i in trainSample]\n",
    "    testInputs = [inputs[i] for i in testSample]\n",
    "    testOutputs = [outputs[i] for i in testSample]\n",
    "    \n",
    "    return trainInputs, trainOutputs, testInputs, testOutputs"
   ]
  },
  {
   "cell_type": "code",
   "execution_count": 340,
   "metadata": {},
   "outputs": [],
   "source": [
    "def plotConfusionMatrix(cm, classNames, title):\n",
    "    from sklearn.metrics import confusion_matrix\n",
    "    import itertools \n",
    "\n",
    "    plt.figure()\n",
    "    plt.imshow(cm, interpolation = 'nearest', cmap = 'Blues')\n",
    "    plt.title('Confusion Matrix ' + title)\n",
    "    plt.colorbar()\n",
    "    tick_marks = np.arange(len(classNames))\n",
    "    plt.xticks(tick_marks, classNames, rotation=45)\n",
    "    plt.yticks(tick_marks, classNames)\n",
    "\n",
    "    text_format = 'd'\n",
    "    thresh = cm.max() / 2.\n",
    "    for row, column in itertools.product(range(cm.shape[0]), range(cm.shape[1])):\n",
    "        plt.text(column, row, format(cm[row, column], text_format),\n",
    "                horizontalalignment = 'center',\n",
    "                color = 'white' if cm[row, column] > thresh else 'black')\n",
    "\n",
    "    plt.ylabel('True label')\n",
    "    plt.xlabel('Predicted label')\n",
    "    plt.tight_layout()\n",
    "\n",
    "    plt.show()\n",
    "\n",
    "def evalMultiClass(realLabels, computedLabels, labelNames):\n",
    "    from sklearn.metrics import confusion_matrix\n",
    "\n",
    "    confMatrix = confusion_matrix(realLabels, computedLabels)\n",
    "    acc = sum([confMatrix[i][i] for i in range(len(labelNames))]) / len(realLabels)\n",
    "    precision = {}\n",
    "    recall = {}\n",
    "    for i in range(len(labelNames)):\n",
    "        precision[labelNames[i]] = confMatrix[i][i] / sum([confMatrix[j][i] for j in range(len(labelNames))])\n",
    "        recall[labelNames[i]] = confMatrix[i][i] / sum([confMatrix[i][j] for j in range(len(labelNames))])\n",
    "    return acc, precision, recall, confMatrix"
   ]
  },
  {
   "cell_type": "code",
   "execution_count": 341,
   "metadata": {},
   "outputs": [
    {
     "data": {
      "image/png": "[encoded data removed]",
      "text/plain": [
       "<Figure size 640x480 with 1 Axes>"
      ]
     },
     "metadata": {},
     "output_type": "display_data"
    }
   ],
   "source": [
    "trainInputs, trainOutputs, testInputs, testOutputs = splitData(inputs, outputs)\n",
    "\n",
    "bins = range(3)\n",
    "plt.hist(trainOutputs, bins, rwidth = 0.8)\n",
    "bin_w = (max(bins) - min(bins)) / (len(bins) - 1)\n",
    "plt.xticks(np.arange(min(bins)+bin_w/2, max(bins), bin_w), outputNames)\n",
    "plt.show()\n",
    "\n",
    "trainInputs = np.array(trainInputs)\n",
    "trainOutputs = np.array([[1, 0] if label == outputNames[0] else [0, 1] for label in trainOutputs])"
   ]
  },
  {
   "cell_type": "code",
   "execution_count": 342,
   "metadata": {},
   "outputs": [],
   "source": [
    "import numpy as np\n",
    "\n",
    "def softmax_derivative(x):\n",
    "    s = softmax(x)\n",
    "    return s * (1 - s)\n",
    "\n",
    "def softmax(x):\n",
    "    exp_x = np.exp(x - np.max(x, axis=1, keepdims=True))\n",
    "    return exp_x / np.sum(exp_x, axis=1, keepdims=True)\n",
    "\n",
    "def mse_loss(y_true, y_pred):\n",
    "    return np.mean((y_true - y_pred)**2)\n",
    "\n",
    "class NeuralNetwork:\n",
    "    def __init__(self, input_size, hidden_size, output_size):\n",
    "        self.weights_input_hidden = np.random.randn(input_size, hidden_size)\n",
    "        self.biases_input_hidden = np.zeros((1, hidden_size))\n",
    "        self.weights_hidden_output = np.random.randn(hidden_size, output_size)\n",
    "        self.biases_hidden_output = np.zeros((1, output_size))\n",
    "\n",
    "    def predict(self, X):\n",
    "        self.hidden_output = softmax(np.dot(X, self.weights_input_hidden) + self.biases_input_hidden)\n",
    "        self.output = softmax(np.dot(self.hidden_output, self.weights_hidden_output) + self.biases_hidden_output)\n",
    "        return self.output\n",
    "\n",
    "    def update(self, X, y, learning_rate):\n",
    "        output_error = y - self.output\n",
    "        output_delta = output_error * softmax_derivative(self.output)\n",
    "        \n",
    "        hidden_error = output_delta.dot(self.weights_hidden_output.T)\n",
    "        hidden_delta = hidden_error * softmax_derivative(self.hidden_output)\n",
    "        \n",
    "        self.weights_hidden_output += self.hidden_output.T.dot(output_delta) * learning_rate\n",
    "        self.biases_hidden_output += np.sum(output_delta, axis=0, keepdims=True) * learning_rate\n",
    "        self.weights_input_hidden += X.T.dot(hidden_delta) * learning_rate\n",
    "        self.biases_input_hidden += np.sum(hidden_delta, axis=0, keepdims=True) * learning_rate\n",
    "\n",
    "    def train(self, X, y, epochs, learning_rate):\n",
    "        for epoch in range(epochs):\n",
    "\n",
    "            output = self.predict(X)\n",
    "            \n",
    "            self.update(X, y, learning_rate)\n",
    "            \n",
    "            if epoch % 10 == 0:\n",
    "                loss = mse_loss(y, output)\n",
    "                accuracy = self.accuracy(y, output)\n",
    "                print(f'Epoch {epoch}: Loss = {loss}, Accuracy = {accuracy}')\n",
    "\n",
    "    def accuracy(self, y_true, y_pred):\n",
    "        y_true_cls = np.argmax(y_true, axis=1)\n",
    "        y_pred_cls = np.argmax(y_pred, axis=1)\n",
    "        correct_predictions = np.sum(y_true_cls == y_pred_cls)\n",
    "        total_examples = y_true.shape[0]\n",
    "        return correct_predictions / total_examples"
   ]
  },
  {
   "cell_type": "code",
   "execution_count": 343,
   "metadata": {},
   "outputs": [
    {
     "name": "stdout",
     "output_type": "stream",
     "text": [
      "Epoch 0: Loss = 0.38728552879274847, Accuracy = 0.4875\n",
      "Epoch 10: Loss = 0.3577583558843041, Accuracy = 0.51875\n",
      "Epoch 20: Loss = 0.33527111816607363, Accuracy = 0.51875\n",
      "Epoch 30: Loss = 0.2992598909467694, Accuracy = 0.51875\n",
      "Epoch 40: Loss = 0.13115441984321566, Accuracy = 0.79375\n",
      "Epoch 50: Loss = 0.022858760423198263, Accuracy = 0.975\n",
      "Epoch 60: Loss = 0.036582324628133725, Accuracy = 0.9625\n",
      "Epoch 70: Loss = 0.05047924787551925, Accuracy = 0.94375\n",
      "Epoch 80: Loss = 0.040657990233940525, Accuracy = 0.98125\n",
      "Epoch 90: Loss = 0.022851261987546233, Accuracy = 0.98125\n",
      "Epoch 100: Loss = 0.028535473963552736, Accuracy = 0.975\n",
      "Epoch 110: Loss = 0.02777060917123044, Accuracy = 0.98125\n",
      "Epoch 120: Loss = 0.0352615829883434, Accuracy = 0.9625\n",
      "Epoch 130: Loss = 0.1684281702868281, Accuracy = 0.84375\n",
      "Epoch 140: Loss = 0.0363454844901675, Accuracy = 0.9625\n"
     ]
    },
    {
     "data": {
      "image/png": "[encoded data removed]",
      "text/plain": [
       "<Figure size 640x480 with 2 Axes>"
      ]
     },
     "metadata": {},
     "output_type": "display_data"
    },
    {
     "name": "stdout",
     "output_type": "stream",
     "text": [
      "acc:  0.975\n",
      "precision:  {0: 1.0, 1: 0.9583333333333334}\n",
      "recall:  {0: 0.9411764705882353, 1: 1.0}\n"
     ]
    }
   ],
   "source": [
    "classifier = NeuralNetwork(trainInputs.shape[1], 15, 2)\n",
    "classifier.classes_ = outputNames\n",
    "classifier.train(trainInputs, trainOutputs, 150, .1)\n",
    "\n",
    "predictedLabels = classifier.predict(testInputs)\n",
    "\n",
    "predictedLabels = [0 if max(label) == label[0] else 1 for label in predictedLabels]\n",
    "\n",
    "acc, prec, recall, cm = evalMultiClass(testOutputs, predictedLabels, outputNames)\n",
    "\n",
    "\n",
    "plotConfusionMatrix(cm, outputNames, \"normal vs sepia classification\")\n",
    "print('acc: ', acc)\n",
    "print('precision: ', prec)\n",
    "print('recall: ', recall)"
   ]
  }
 ],
 "metadata": {
  "kernelspec": {
   "display_name": "Python 3",
   "language": "python",
   "name": "python3"
  },
  "language_info": {
   "codemirror_mode": {
    "name": "ipython",
    "version": 3
   },
   "file_extension": ".py",
   "mimetype": "text/x-python",
   "name": "python",
   "nbconvert_exporter": "python",
   "pygments_lexer": "ipython3",
   "version": "3.11.6"
  }
 },
 "nbformat": 4,
 "nbformat_minor": 2
}
